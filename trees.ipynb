{
 "cells": [
  {
   "cell_type": "markdown",
   "metadata": {},
   "source": [
    "# Sheffield Tree Survey"
   ]
  },
  {
   "cell_type": "code",
   "execution_count": 42,
   "metadata": {
    "collapsed": true
   },
   "outputs": [],
   "source": [
    "import csv\n",
    "\n",
    "inp_fn = \"cleanup.csv\"\n",
    "\n",
    "with open(inp_fn) as inp:\n",
    "    raw_rows = list(csv.reader(inp))"
   ]
  },
  {
   "cell_type": "markdown",
   "metadata": {},
   "source": [
    "Column indexes 10 and 11 are junk."
   ]
  },
  {
   "cell_type": "code",
   "execution_count": 43,
   "metadata": {
    "collapsed": true
   },
   "outputs": [],
   "source": [
    "raw_rows = [r[:10] for r in raw_rows]"
   ]
  },
  {
   "cell_type": "code",
   "execution_count": 44,
   "metadata": {
    "collapsed": false
   },
   "outputs": [],
   "source": [
    "if 'Totals' in raw_rows[-1]:\n",
    "    del raw_rows[-1]"
   ]
  },
  {
   "cell_type": "code",
   "execution_count": 45,
   "metadata": {
    "collapsed": false
   },
   "outputs": [
    {
     "data": {
      "text/plain": [
       "[(0, 'Title'),\n",
       " (1, 'Zone'),\n",
       " (2, 'Responses'),\n",
       " (3, 'Households'),\n",
       " (4, 'Agree'),\n",
       " (5, 'Disagree'),\n",
       " (6, 'Response\\nrate'),\n",
       " (7, 'Disagree -\\nrespondents (%)'),\n",
       " (8, 'Tree Panel\\nRequired?'),\n",
       " (9, 'Phase')]"
      ]
     },
     "execution_count": 45,
     "metadata": {},
     "output_type": "execute_result"
    }
   ],
   "source": [
    "header, *raw_rows = raw_rows\n",
    "list(enumerate(header))"
   ]
  },
  {
   "cell_type": "markdown",
   "metadata": {},
   "source": [
    "## Bogus counts\n",
    "\n",
    "At least one row has bogus counts: the `agrees` + `disagrees` exceeds the numbers of responses."
   ]
  },
  {
   "cell_type": "code",
   "execution_count": 46,
   "metadata": {
    "collapsed": false
   },
   "outputs": [
    {
     "data": {
      "text/plain": [
       "[['Bannerdale Road',\n",
       "  'B54 Carterknowle',\n",
       "  '32',\n",
       "  '272',\n",
       "  '32',\n",
       "  '13',\n",
       "  '12%',\n",
       "  '41%',\n",
       "  'No',\n",
       "  '2']]"
      ]
     },
     "execution_count": 46,
     "metadata": {},
     "output_type": "execute_result"
    }
   ],
   "source": [
    "[r for r in raw_rows if int(r[4])+int(r[5]) > int(r[2])]"
   ]
  },
  {
   "cell_type": "markdown",
   "metadata": {},
   "source": [
    "## Bogus household counts\n",
    "\n",
    "A few rows have more responses than there are households."
   ]
  },
  {
   "cell_type": "code",
   "execution_count": 47,
   "metadata": {
    "collapsed": false
   },
   "outputs": [
    {
     "data": {
      "text/plain": [
       "[['Lyndhurst Road',\n",
       "  'B54 Carterknowle',\n",
       "  '2',\n",
       "  '0',\n",
       "  '2',\n",
       "  '0',\n",
       "  '9%',\n",
       "  '0%',\n",
       "  'No',\n",
       "  '2'],\n",
       " ['Manchester Road',\n",
       "  'A21 Manchester Road',\n",
       "  '14',\n",
       "  '1',\n",
       "  '12',\n",
       "  '2',\n",
       "  '10%',\n",
       "  '14%',\n",
       "  'No',\n",
       "  '2'],\n",
       " ['Montrose Road',\n",
       "  'B54 Carterknowle',\n",
       "  '3',\n",
       "  '1',\n",
       "  '3',\n",
       "  '0',\n",
       "  '5%',\n",
       "  '0%',\n",
       "  'No',\n",
       "  '2'],\n",
       " ['Mortimer Road',\n",
       "  'A19 Bradfield',\n",
       "  '1',\n",
       "  '0',\n",
       "  '1',\n",
       "  '0',\n",
       "  '10%',\n",
       "  '0%',\n",
       "  'No',\n",
       "  '2'],\n",
       " ['Owler Gate',\n",
       "  'B10 Oughtibridge',\n",
       "  '2',\n",
       "  '0',\n",
       "  '2',\n",
       "  '0',\n",
       "  '20%',\n",
       "  '0%',\n",
       "  'No',\n",
       "  '2'],\n",
       " ['Spurr Street', 'B63 Lowfield', '1', '0', '1', '0', '3%', '0%', 'No', '2'],\n",
       " ['Willington Road',\n",
       "  'B21 Firth Park',\n",
       "  '1',\n",
       "  '0',\n",
       "  '1',\n",
       "  '0',\n",
       "  '3%',\n",
       "  '0%',\n",
       "  'No',\n",
       "  '2']]"
      ]
     },
     "execution_count": 47,
     "metadata": {},
     "output_type": "execute_result"
    }
   ],
   "source": [
    "[r for r in raw_rows if int(r[2]) > int(r[3])]"
   ]
  },
  {
   "cell_type": "markdown",
   "metadata": {},
   "source": [
    "All of these seem funny.\n",
    "Mortimer Road for example is perhaps one of Sheffield's longest roads.\n",
    "It is a winding country lane, but surely it has _some_ households on?\n",
    "Well, one household managed to respond from this road with seemingly no households on, so yes,\n",
    "it must have some.\n",
    "But the percentage of respondents is surely bogus?\n",
    "There is one response and 0 households, and somehow the fraction of responses is marked as 10%.\n",
    "\n",
    "Manchester Road, to pick another example, has hundreds of households on.\n",
    "So what gives?"
   ]
  },
  {
   "cell_type": "markdown",
   "metadata": {},
   "source": [
    "Sometimes, the `disagree` percentage is just utterly bogus."
   ]
  },
  {
   "cell_type": "code",
   "execution_count": 48,
   "metadata": {
    "collapsed": true
   },
   "outputs": [],
   "source": [
    "def cvt(x):\n",
    "    if x == '-':\n",
    "        return 0\n",
    "    return int(x.replace('%', ''))"
   ]
  },
  {
   "cell_type": "code",
   "execution_count": 49,
   "metadata": {
    "collapsed": false
   },
   "outputs": [
    {
     "data": {
      "text/plain": [
       "[['Thompson Road',\n",
       "  'B48 Endcliffe',\n",
       "  '4',\n",
       "  '57',\n",
       "  '1',\n",
       "  '3',\n",
       "  '7%',\n",
       "  '7500%',\n",
       "  'Yes',\n",
       "  '5']]"
      ]
     },
     "execution_count": 49,
     "metadata": {},
     "output_type": "execute_result"
    }
   ],
   "source": [
    "[r for r in raw_rows if cvt(r[7]) > 100]"
   ]
  },
  {
   "cell_type": "markdown",
   "metadata": {},
   "source": [
    "The above two issues suggest that data has been transcribed by hand.\n",
    "How else does `0.75` become `75` (that is, `7500%`)?\n",
    "And how does Mortimer Road come to have 0 households instead of 10?\n",
    "\n",
    "The fact that the data has been touched by human hands basically casts suspicion over it all."
   ]
  },
  {
   "cell_type": "markdown",
   "metadata": {},
   "source": [
    "Note that many cases of Independent Tree Panel referral were missed by a single `disagree` response:"
   ]
  },
  {
   "cell_type": "code",
   "execution_count": 50,
   "metadata": {
    "collapsed": false
   },
   "outputs": [],
   "source": [
    "close_cases = [r for r in raw_rows if cvt(r[2]) and cvt(r[5])/cvt(r[2]) < 0.5 and (cvt(r[5])+1)/cvt(r[2]) >= 0.5]"
   ]
  },
  {
   "cell_type": "markdown",
   "metadata": {},
   "source": [
    "Here are a few of the close cases."
   ]
  },
  {
   "cell_type": "code",
   "execution_count": 51,
   "metadata": {
    "collapsed": false
   },
   "outputs": [
    {
     "data": {
      "text/plain": [
       "[['Northcote Avenue',\n",
       "  'B61 - Norton Woodseats',\n",
       "  '8',\n",
       "  '54',\n",
       "  '5',\n",
       "  '3',\n",
       "  '15%',\n",
       "  '38%',\n",
       "  'No',\n",
       "  '10'],\n",
       " ['Cavendish Avenue',\n",
       "  'B52 - Dore',\n",
       "  '9',\n",
       "  '36',\n",
       "  '5',\n",
       "  '4',\n",
       "  '25%',\n",
       "  '44%',\n",
       "  'No',\n",
       "  '10'],\n",
       " ['Gleadless Road',\n",
       "  'A23 - Gleadless',\n",
       "  '9',\n",
       "  '361',\n",
       "  '5',\n",
       "  '4',\n",
       "  '2%',\n",
       "  '44%',\n",
       "  'No',\n",
       "  '10']]"
      ]
     },
     "execution_count": 51,
     "metadata": {},
     "output_type": "execute_result"
    }
   ],
   "source": [
    "sorted(close_cases, key=lambda r: r[2])[-3:]"
   ]
  },
  {
   "cell_type": "markdown",
   "metadata": {},
   "source": [
    "How many close cases?"
   ]
  },
  {
   "cell_type": "code",
   "execution_count": 52,
   "metadata": {
    "collapsed": false
   },
   "outputs": [
    {
     "data": {
      "text/plain": [
       "71"
      ]
     },
     "execution_count": 52,
     "metadata": {},
     "output_type": "execute_result"
    }
   ],
   "source": [
    "len(close_cases)"
   ]
  },
  {
   "cell_type": "markdown",
   "metadata": {},
   "source": [
    "Also worth noting that because an Independent Tree Panel referral is required when `disagrees` >= 0.5 `responses`, the responses which were neither agree nor disagree are, practically speaking, the same as `agree`."
   ]
  },
  {
   "cell_type": "code",
   "execution_count": 53,
   "metadata": {
    "collapsed": false
   },
   "outputs": [
    {
     "data": {
      "text/plain": [
       "42"
      ]
     },
     "execution_count": 53,
     "metadata": {},
     "output_type": "execute_result"
    }
   ],
   "source": [
    "raw_counts = [(cvt(r[2]), cvt(r[4])+cvt(r[5])) for r in raw_rows]\n",
    "sum([r-c for r,c in raw_counts if r > c])"
   ]
  }
 ],
 "metadata": {
  "kernelspec": {
   "display_name": "Python 3",
   "language": "python",
   "name": "python3"
  },
  "language_info": {
   "codemirror_mode": {
    "name": "ipython",
    "version": 3
   },
   "file_extension": ".py",
   "mimetype": "text/x-python",
   "name": "python",
   "nbconvert_exporter": "python",
   "pygments_lexer": "ipython3",
   "version": "3.4.3"
  }
 },
 "nbformat": 4,
 "nbformat_minor": 0
}
